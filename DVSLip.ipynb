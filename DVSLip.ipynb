{
  "statements": [
    "download statements",
    "!pip install tonic --quiet",
    "!pip install snntorch --quiet"
  ],
  "imports": [
    "import tonic",
    "from tonic import datasets",
    "import tonic.transforms as transforms",
    "import snntorch as snn",
    "from snntorch import spikeplot as splt",
    "from snntorch import spikegen",
    "import torch",
    "import torch.nn as nn",
    "from torch.utils.data import DataLoader",
    "import matplotlib.pyplot as plt",
    "import numpy as np",
    "import itertools"
  ],
  "path": {
    "save_to_path": "/content/drive/MyDrive/CMPM_118/DVS-Lip",
    "batch_size": 128
  },
  "device": "torch.device(\"cuda\") if torch.cuda.is_available() else torch.device(\"cpu\")",
  "sensor_size": "tonic.datasets.DVSLip.sensor_size",
  "transform": {
    "transforms": [
      {
        "Denoise": {
          "filter_time": 10000
        }
      },
      {
        "ToFrame": {
          "sensor_size": "sensor_size",
          "time_window": 1000
        }
      }
    ]
  },
  "custom_data_loader": {
    "class_name": "DVSLipDataset",
    "class_definition": {
      "Dataset": [
        {
          "init": {
            "save_to_path": "save_to_path",
            "train": true,
            "transform": "transform",
            "target_transform": null,
            "transforms": "transforms"
          }
        }
      ]
    },
    "methods": {
      "__len__": "len(self.dataset)",
      "__getitem__": {
        "definition": "sample = self.dataset[idx]",
        "comment": "You can perform additional processing on the sample if needed"
      }
    }
  },
  "data_loaders": {
    "train_dataset": {
      "class_name": "DVSLipDataset",
      "parameters": [
        "save_to_path",
        true,
        "transform"
      ]
    },
    "val_dataset": {
      "class_name": "DVSLipDataset",
      "parameters": [
        "save_to_path",
        false,
        "transform"
      ]
    },
    "train_loader": {
      "class_name": "DataLoader",
      "parameters": [
        "train_dataset",
        "batch_size",
        true,
        2
      ]
    },
    "val_loader": {
      "class_name": "DataLoader",
      "parameters": [
        "val_dataset",
        "batch_size",
        false,
        2
      ]
    }
  }
}

