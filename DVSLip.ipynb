*.json linguist-language=JavaScript

#CELL 1
#download statements
!pip install tonic --quiet
!pip install snntorch --quiet

#imports
import tonic
from tonic import datasets
import tonic.transforms as transforms

#CELL 2
import snntorch as snn
from snntorch import spikeplot as splt
from snntorch import spikegen

import torch
import torch.nn as nn
from torch.utils.data import DataLoader

import matplotlib.pyplot as plt
import numpy as np
import itertools

#CELL 3
#path
save_to_path = '/content/drive/MyDrive/CMPM_118/DVS-Lip'
batch_size = 128

#define device (in tut5)
device = torch.device("cuda") if torch.cuda.is_available() else torch.device("cpu")

#CELL 4
sensor_size = tonic.datasets.DVSLip.sensor_size


transform = transforms.Compose([transforms.Denoise(filter_time=10000),
                                      transforms.ToFrame(sensor_size=sensor_size,
                                                         time_window=1000)
                                     ])

#CELL 5
#Custom Data Loader (MAIN ISSUE)
from torch.utils.data import Dataset, DataLoader

class DVSLipDataset(Dataset):
    def __init__(self, save_to_path, train=True, transform=None, target_transform=None, transforms=None):
        self.dataset = datasets.DVSLip(save_to=save_to_path, train=train, transform=transform,
                                       target_transform=target_transform, transforms=transforms)

    def __len__(self):
        return len(self.dataset)

    def __getitem__(self, idx):
        sample = self.dataset[idx]
        # You can perform additional processing on the sample if needed
        return sample

# Create the training and validation datasets
train_dataset = DVSLipDataset(save_to_path, train=True, transform=transform)
val_dataset = DVSLipDataset(save_to_path, train=False, transform=transform)

# Create the custom data loaders
train_loader = DataLoader(train_dataset, batch_size=batch_size, shuffle=True, num_workers=2)
val_loader = DataLoader(val_dataset, batch_size=batch_size, shuffle=False, num_workers=2)


#CELL 6
dvslip_train = datasets.DVSLip(save_to='/content', train=True, transform=transform)
#dvslip_test = datasets.DVSLip(save_to=save_to_path, train=False, transform=transform)

#Still need to print values and define network
